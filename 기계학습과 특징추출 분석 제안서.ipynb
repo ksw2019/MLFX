{
 "cells": [
  {
   "cell_type": "markdown",
   "id": "0f0b6a73-4d4c-4c53-b6e7-1f414d926283",
   "metadata": {},
   "source": [
    "# TEAM 마음 Ai 분석 제안서\n",
    "\n",
    "## 온라인 식품시장 트렌드 분석\n",
    "___"
   ]
  },
  {
   "cell_type": "markdown",
   "id": "4b750248-f9db-4575-9169-a5850e914f5f",
   "metadata": {},
   "source": [
    "#### 팀원 정보\n",
    "\n",
    "1. 김성욱\n",
    "2. 김해주\n",
    "3. 장원익\n",
    "___"
   ]
  },
  {
   "cell_type": "markdown",
   "id": "bbf89892-c02d-4f9a-a721-bd1add948be8",
   "metadata": {},
   "source": [
    "## 1. 분석 목적\n",
    "\n",
    "1. 대중이 자주 접할 수 있는 다양한 식품 브랜드에 대한 대중의 시선과 중요하게 생각하는 요소를 도출해 내고자 합니다.\n",
    "2. 리뷰 데이터를 분석함으로써 다음과 같은 세부 정보를 도출할 수 있습니다.\n",
    "    * 브랜드 내의 각 메뉴마다의 인식과 선호도 정도\n",
    "    * 대중이 메뉴를 선택 또는 평가할 때 중요하게 생각하는 요소 (가격, 맛, 포장, 서비스 등등을 예상합니다)\n",
    "    * 긍정 평가와 부정 평가의 비율 (브랜드 별, 또는 메뉴 별)\n",
    "3. 같은 식품 업종별로 브랜드 간의 차이를 비교하거나, 브랜드 내 메뉴들 간의 선호 정도를 비교할 수 있습니다. 이를 통해 성공한 메뉴의 특징을 엿보는 것도 기대합니다."
   ]
  },
  {
   "cell_type": "markdown",
   "id": "5a5e9178-212d-4b2d-bf80-026a4aab00a0",
   "metadata": {},
   "source": [
    "___\n",
    "\n",
    "## 2. 데이터 수집\n",
    "\n",
    "### 1) 데이터의 출처\n",
    "이번 프로젝트에서는 네이버 플레이스의 리뷰 데이터를 이용합니다.\n",
    "네이버 플레이스 리뷰의 경우 타 SNS 서비스에서 얻을 수 있는 데이터에 비해 아래 장점들이 있어 이 방법을 선택하였습니다.\n",
    "\n",
    "|               |  네이버 플레이스    |타 SNS|\n",
    "|-------------  |---------------------|------|\n",
    "|광고성 게시물  |실제 사용자 리뷰 위주|광고 게시물 다수|\n",
    "|글의 간결성    |짧은 문장 리뷰 위주  |장문의 글 위주|\n",
    "|다양한 파라미터|날짜, 별점, 포인트 등|주관적인 기준과 평가|\n",
    "\n",
    "이번 제안서에서 예시로 사용될 Sample은 아래 두 사이트입니다.\n",
    "\n",
    "1. 맥도날드 양주옥정DT점          ->   \n",
    "https://m.place.naver.com/restaurant/1556738021/review/visitor\n",
    "2. 맘스터치 시흥배곧신도시1호점   ->   \n",
    "https://m.place.naver.com/restaurant/1569823996/review/visitor\n",
    "\n",
    "### 2) 데이터 수집 방법\n",
    "셀레니움을 기반으로 데이터를 수집합니다.\n",
    "예시 코드를 아래에 서술합니다."
   ]
  },
  {
   "cell_type": "markdown",
   "id": "ab955be6-6e11-4ec7-91ca-3080b926882b",
   "metadata": {},
   "source": [
    "### 2-1) 모듈 설치 코드\n",
    "```python\n",
    "!pip install Selenium\n",
    "!apt-get update\n",
    "!apt install chromium-chromedriver\n",
    "!pip install chromedriver-autoinstaller\n",
    "```\n",
    "### 2-2) 모듈 Import"
   ]
  },
  {
   "cell_type": "code",
   "execution_count": 1,
   "id": "3ea32b0f-053a-4ac0-83fb-719fe8f3ef6b",
   "metadata": {
    "tags": []
   },
   "outputs": [],
   "source": [
    "import sys\n",
    "sys.path.insert(0,'/usr/lib/chromium-browser/chromedriver')\n",
    "\n",
    "from selenium.webdriver.common.by import By\n",
    "from urllib3.util.retry import Retry\n",
    "from requests.adapters import HTTPAdapter\n",
    "from openpyxl import Workbook\n",
    "from bs4 import BeautifulSoup\n",
    "from selenium import webdriver\n",
    "from selenium.webdriver.common.keys import Keys\n",
    "from selenium.webdriver.support.ui import WebDriverWait\n",
    "from selenium.webdriver.support import expected_conditions as EC\n",
    "\n",
    "import pandas as pd\n",
    "import time\n",
    "import datetime\n",
    "import requests\n",
    "\n",
    "import chromedriver_autoinstaller"
   ]
  },
  {
   "cell_type": "markdown",
   "id": "d560009c-ae2c-4f5c-995d-f250f82b61f1",
   "metadata": {},
   "source": [
    "### 2-3) 크롤링 진행\n",
    "\n",
    "간단하게, 다음과 같은 과정을 거쳐 진행합니다.\n",
    "1. 원하는 매장의 주소로 이동\n",
    "2. 더보기 버튼을 반복적으로 눌러 리뷰들을 창에 로딩합니다\n",
    "3. 데이터를 크롤링하여 엑셀 파일로 저장합니다.\n",
    "\n",
    "#### **맥도날드 양주옥점 DT점의 데이터를 수집하는 예시 코드입니다**"
   ]
  },
  {
   "cell_type": "code",
   "execution_count": 34,
   "id": "4338d135-ca20-4fab-abf7-b87e4ff8ee85",
   "metadata": {
    "scrolled": true,
    "tags": []
   },
   "outputs": [
    {
     "name": "stdout",
     "output_type": "stream",
     "text": [
      "하림채아윤 /  / 3.24.일 / 2번째 방문\n",
      "리뷰써보기 / 상하이는 순삭해서 사진이 없네요ㅋㅋㅋ 양상추, 토마토 신선해서 맛있게 먹었어요. 사진에 추가로 주문한 더블불고기도 패티, 소스, 양상추,치즈 모두 푸짐했어요,감튀도 맛있더라고요 다른덴 다 마른 감잔데 오랜만에 맛있게 먹었습니다♡ / 3.17.일 / 1번째 방문\n",
      "껀블리 / 포장해서 먹었는데 기프티콘 사용할거라 맥드라이브 대신 주차장에 주차하고 픽업했어요! 식사시간 근접해서 그런\n",
      "지 주차장에 자리가 부족했어용  주문을 많이해서 혹시나 누락있을까봐 받자마자 포장 뜯고 확인해봤는데 역시나 \n",
      "치즈스틱누락.. 말씀드리니까 바로 챙겨주셨어요! 맥날은 언제 먹어도 든든하고 맛있습니당 내용 더보기 / 4.13.토 / 1번째 방문\n",
      "주주46 / 오랜만에 베이컨토마토디럭스버거를 사먹어봤는데요, 맥도날드는 빵이 쫄깃하고 맛있네요! 할인행사같은거  많이 했으면 좋겠어요~~ 버거세트 두 개에 윙 추가했는데 3만원이 넘게 나오네요ㅠㅠ  / 4.4.목 / 1번째 방문\n",
      "현듀와나들이 / 커피너무조금주시네요  얼음만가득해요.  드라이브스루로 구입했는데 코너가 돌기도 넓고 좋습니다.내용 더보기 / 4.1.월 / 1번째 방문\n",
      "미놈친아 / 매장 깔끔하고 조용하고 아주 좋습니다 직원분께서 테이블서비스 추천해주셔서 이용하였는데 2층까지 가져다주셨\n",
      "습니다  테이블서비스 처음이용하였는데 아주 편리하고 유용한 서비스네요  친절하게 응대해주셔서 감사합니다.내용 더보기 / 4.3.수 / 1번째 방문\n",
      "바이올렛7132 / 홀에 계시는분 친절하세요.  / 4.28.일 / 1번째 방문\n",
      "sera1216 / 맥플러리~ 너무 작아졌지만 맛있어요~~!! / 4.25.목 / 2번째 방문\n",
      "훈유니 / 체인점이니 그럭저럭 평타는 합니다\n",
      "이름은 왜 옥정인지 모르겠어요 고읍이라고 하는게 더 찾기 편할 듯합니다 / 4.5.금 / 1번째 방문\n",
      "좋았으면리뷰에하트 / 직원분이 너무 친절하고 매장이 깨끗하고 쾌적해서 즐겁게 이용하고 갑니다!! 직원분이 정말정말 놀라울만큼 친절\n",
      "합니다 감사합니다!내용 더보기 / 4.17.수 / 1번째 방문\n",
      "시금치무침37 / 매장 깨끗하고 친절하고 좋아요!!^^ / 4.8.월 / 1번째 방문\n",
      "라떼는말2야 / 키오스크가 있어서 편하고 매장도 넓고 쾌적해서 이용하기 좋았어요! \n",
      "재료도 신선하고 너무 맛있어요! / 3.8.금 / 2번째 방문\n",
      "쿠쿠루쿠 /  / 3.20.수 / 1번째 방문\n",
      "행복나무나무 / 맛은 괜찮아요 \n",
      "주차장은 작아요 / 3.10.일 / 3번째 방문\n",
      "anjoo / 맛있습니다. 친절합니다 / 4.20.토 / 1번째 방문\n",
      "하림채아윤 /  / 23.12.24.일 / 1번째 방문\n",
      "sera1216 / 24시 생겨서 너무 좋아요~~ 안내해주시는 직원분도 너무 친절해서 좋았어요~! / 3.10.일 / 1번째 방문\n",
      "Tastytasty / 인테리어도 깔끔하도 의자도 편해요. 직원분들 친절해요. / 4.10.수 / 1번째 방문\n",
      "별이달이29 / 새메뉴  맥그리드 이상한 향이 있어요 시키실때  신중하세요 / 3.3.일 / 4번째 방문\n",
      "kimtire / 잠시 노트북 작업 / 3.28.목 / 2번째 방문\n",
      "ISTP일기장 / 지민이라는 여자분 엄청 친절하시네요\n",
      "설 당일에 일하느라 힘드실텐데 너무 친절하셔서 기분 좋아지네요  / 2.10.토 / 1번째 방문\n",
      "lovableness /  / 23.12.25.월 / 1번째 방문\n",
      "조이블라썸 / 직원분들 친절하고 매장 깨끗해요.\n",
      "다만 주차공간이 많지 않아 아쉽네요ㅠㅠ..\n",
      " / 3.17.일 / 1번째 방문\n",
      "sunkise1 / 직원분들 너무 친절하십니다~ / 2.26.월 / 1번째 방문\n",
      "클럼지25 / 동네 생겨서 넘좋아요\n",
      "빅맥 땡길때 바로가요 / 4.5.금 / 1번째 방문\n",
      "눈이부시게이삭 / 오픈한지 몇달 안 되서 그런지 복작거리지 않아 좋았어요. 근데 2층 매장에 모니터가 없어서 픽업할 때 조금 번거로웠어요. / 3.16.토 / 1번째 방문\n",
      "an**** / 언제나 같은 맛 맥도날드 / 3.24.일 / 1번째 방문\n",
      "보푸 / 새로 생긴 맥도날드에서 햄버거 맛나게 먹었어요! / 1.17.수 / 1번째 방문\n",
      "미호6967 / 5번정도 방문했는데 항상별로에요 감튀는 딱딱하고 버거도 부실함 주차공간도 진짜 없고 매장엔 사람이 없는데도 \n",
      "주차자리는 항상 꽉차있는게 미스테리합니다내용 더보기 / 2.10.토 / 1번째 방문\n",
      "유비무환걱정뚝 / DT 이용했는데 깔끔하고 편리해요~~\n",
      " / 3.21.목 / 1번째 방문\n",
      "kko**** / 맥도날드가 생겨서 너무 좋은데\n",
      "진짜 주차는 불편한곳!! / 3.16.토 / 2번째 방문\n",
      "ms8**** / 넘 친절하시고 맛있어요 / 4.14.일 / 1번째 방문\n",
      "뽀송보송 / 키오스크에서 도움주는분이 계셔서 아이가 싫어하는 야채도 뺄수있었고   테이블까지 가져다줘서  편하게 앉아서  기다리니 좋았네요 \n",
      " / 1.27.토 / 1번째 방문\n",
      "hiho77786 / 9시에 긴단히 먹기 좋아요. 일찍 문열어서요 / 2.10.토 / 1번째 방문\n",
      "아이지키미 / 스낵랩 맛있네요~~\n",
      "크기가 작아 아쉽긴 했어요. / 3.15.금 / 1번째 방문\n",
      "짜몽132 / 동네에 맥드라이브 생겨서 너무 기쁜 1인이에요\n",
      "열번도 넘게 간거같은데 드라이브스루만 이용하다보니 매장을 못들어가봤네여ㅋ / 3.16.토 / 1번째 방문\n",
      "센스초이 / 항상 맛잇어요 / 3.30.토 / 2번째 방문\n",
      "희0298 / 주차하기 힘듦 친절함 / 3.29.금 / 2번째 방문\n",
      "obs**** / 포인트로 맛나게 먹었어요 / 4.4.목 / 1번째 방문\n",
      "희동쓰17 / 맥날햄버거가 제일\n",
      "맛있어요 직원분들 친절해서 좋아요 / 3.2.토 / 1번째 방문\n",
      "아무거나안가리고마구머거스 / 해피밀 / 4.28.일 / 1번째 방문\n",
      "IIIlIl / 맛있고 친절해요! 너무좋아요 / 1.14.일 / 2번째 방문\n",
      "yyj5988 / 가까운 곳에 맥드라이브가 생겨서 좋아요. 강아지 때문에 늘 드라이브스루만 이용하지만 차에서 먹는 맥모닝도 꿀\n",
      "맛이네요. 직원분도 친절하세요~내용 더보기 / 1.19.금 / 1번째 방문\n",
      "only JSRR / 엄청 친절하시고 좋은데 이날 디카페인으로 주문했는데 일빈 카페라테로 주셔서..주문 확인만 잘 챙겨주시면 될 듯합니다~~  / 3.10.일 / 1번째 방문\n",
      "ino**** / 아이슼\n",
      "림… / 4.14.일 / 1번째 방문\n",
      "한며듦 / 맥도날드는 1955와 상하이죠!! / 1.21.일 / 1번째 방문\n",
      "dbdbdbdbq / 바로 집앞에 기다리고 기다리던 맥도날드가 생겨서 너무 좋아요 오픈날에도 갔었는데 그 날 엄청 바빴고 이슈가 있\n",
      "었는데도 인상한번 찡그리지 않는 직원분들 모습에 감동받았어요 ^^ 테이블 정리하기 힘드실까봐 맥드라이브 이용\n",
      "하구 집에서 가족들과 먹었답니다~ 더 자주 이용할거 같아요.내용 더보기 / 23.12.29.금 / 1번째 방문\n",
      "mistywoman1 /  / 1.19.금 / 1번째 방문\n",
      "니몬 / 굿 / 4.28.일 / 3번째 방문\n",
      "kimtire / 친절한 안내자가 근무중이네요 / 1.18.목 / 1번째 방문\n"
     ]
    }
   ],
   "source": [
    "chrome_options = webdriver.ChromeOptions()\n",
    "chrome_options.add_argument('--headless')\n",
    "chrome_options.add_argument('--no-sandbox')\n",
    "chrome_options.add_argument('--disable-dev-shm-usage')\n",
    "\n",
    "chromedriver_autoinstaller.install()\n",
    "\n",
    "# 네이버 플레이스 매장 주소\n",
    "url = \"https://m.place.naver.com/restaurant/1556738021/review/visitor\"\n",
    "\n",
    "session = requests.Session()\n",
    "headers = {\n",
    "    \"User-Agent\": \"user value\"}\n",
    "\n",
    "retries = Retry(total=5,\n",
    "                backoff_factor=0.1,\n",
    "                status_forcelist=[500, 502, 503, 504])\n",
    "\n",
    "session.mount('http://', HTTPAdapter(max_retries=retries))\n",
    "\n",
    "\n",
    "now = datetime.datetime.now()\n",
    "xlsx = Workbook()\n",
    "list_sheet = xlsx.create_sheet('output')\n",
    "list_sheet.append(['nickname', 'content', 'date', 'revisit'])\n",
    "\n",
    "\n",
    "driver = webdriver.Chrome(options=chrome_options)\n",
    "res = driver.get(url)\n",
    "driver.implicitly_wait(30)\n",
    "\n",
    "# 네이브 플레이스 더보기 버튼 클릭\n",
    "try:\n",
    "    for _ in range(60):\n",
    "        # 더보기 버튼 클릭\n",
    "        more_button = WebDriverWait(driver, 10).until(EC.presence_of_element_located((By.XPATH, '//*[@id=\"app-root\"]/div/div/div/div[6]/div[2]/div[3]/div[2]/div/a')))\n",
    "        more_button.click()\n",
    "except Exception as e:\n",
    "    print('finish')\n",
    "\n",
    "time.sleep(5)\n",
    "html = driver.page_source\n",
    "bs = BeautifulSoup(html, 'lxml')\n",
    "reviews = bs.select('li.owAeM')\n",
    "\n",
    "# 리뷰 데이터 크롤링\n",
    "for r in reviews:\n",
    "        nickname = r.select_one('div.qgLL3>span.P9EZi')\n",
    "        content = r.select_one('div.vg7Fp.CyA_N')\n",
    "        date = r.select('div.D40bm>span.CKUdu>time')[0]\n",
    "        revisit = r.select('div.D40bm>span.CKUdu')[1]\n",
    "\n",
    "        nickname = nickname.text if nickname else ''\n",
    "        content = content.text if content else ''\n",
    "        date = date.text if date else ''\n",
    "        revisit = revisit.text if revisit else ''\n",
    "        time.sleep(0.06)\n",
    "\n",
    "        print(nickname, '/', content, '/', date, '/', revisit)\n",
    "        list_sheet.append([nickname, content, date, revisit])\n",
    "        time.sleep(0.06)\n",
    "\n",
    "# 크롤링한 데이터 엑셀로 저장\n",
    "file_name = '맥도날드' + now.strftime('%Y-%m-%d_%H-%M-%S') + '.xlsx'\n",
    "xlsx.save(file_name)"
   ]
  },
  {
   "cell_type": "markdown",
   "id": "357134fe-2970-49b3-9fc2-bfe95ccb7691",
   "metadata": {},
   "source": [
    "### 2-4) 수집된 데이터의 구조 및 설명\n",
    "\n",
    "*   nickname : 사용자의 아이디 또는 닉네임\n",
    "*   content: 사용자가 작성한 리뷰 내용. 리뷰는 제품 또는 브랜드에 대한 사용자의 경험과 의견을 포함.\n",
    "*   date : 리뷰가 작성된 날짜.\n",
    "*   revisit : 사용자가 해당 매장을 방문한 횟수.\n",
    "\n",
    "#### **수집한 데이터의 형태를 나타냅니다**"
   ]
  },
  {
   "cell_type": "code",
   "execution_count": 3,
   "id": "45ddaec8-41f7-4423-909d-cfc6309b2d03",
   "metadata": {
    "tags": []
   },
   "outputs": [],
   "source": [
    "import numpy as np\n",
    "import pandas as pd"
   ]
  },
  {
   "cell_type": "code",
   "execution_count": 35,
   "id": "e68fe249-9bd0-42fb-a9c4-9ace2b2e6511",
   "metadata": {
    "tags": []
   },
   "outputs": [
    {
     "data": {
      "text/html": [
       "<div>\n",
       "<style scoped>\n",
       "    .dataframe tbody tr th:only-of-type {\n",
       "        vertical-align: middle;\n",
       "    }\n",
       "\n",
       "    .dataframe tbody tr th {\n",
       "        vertical-align: top;\n",
       "    }\n",
       "\n",
       "    .dataframe thead th {\n",
       "        text-align: right;\n",
       "    }\n",
       "</style>\n",
       "<table border=\"1\" class=\"dataframe\">\n",
       "  <thead>\n",
       "    <tr style=\"text-align: right;\">\n",
       "      <th></th>\n",
       "      <th>nickname</th>\n",
       "      <th>content</th>\n",
       "      <th>date</th>\n",
       "      <th>revisit</th>\n",
       "    </tr>\n",
       "  </thead>\n",
       "  <tbody>\n",
       "    <tr>\n",
       "      <th>0</th>\n",
       "      <td>하림채아윤</td>\n",
       "      <td>NaN</td>\n",
       "      <td>3.24.일</td>\n",
       "      <td>2번째 방문</td>\n",
       "    </tr>\n",
       "    <tr>\n",
       "      <th>1</th>\n",
       "      <td>리뷰써보기</td>\n",
       "      <td>상하이는 순삭해서 사진이 없네요ㅋㅋㅋ 양상추, 토마토 신선해서 맛있게 먹었어요. 사...</td>\n",
       "      <td>3.17.일</td>\n",
       "      <td>1번째 방문</td>\n",
       "    </tr>\n",
       "    <tr>\n",
       "      <th>2</th>\n",
       "      <td>껀블리</td>\n",
       "      <td>포장해서 먹었는데 기프티콘 사용할거라 맥드라이브 대신 주차장에 주차하고 픽업했어요!...</td>\n",
       "      <td>4.13.토</td>\n",
       "      <td>1번째 방문</td>\n",
       "    </tr>\n",
       "    <tr>\n",
       "      <th>3</th>\n",
       "      <td>주주46</td>\n",
       "      <td>오랜만에 베이컨토마토디럭스버거를 사먹어봤는데요, 맥도날드는 빵이 쫄깃하고 맛있네요!...</td>\n",
       "      <td>4.4.목</td>\n",
       "      <td>1번째 방문</td>\n",
       "    </tr>\n",
       "    <tr>\n",
       "      <th>4</th>\n",
       "      <td>현듀와나들이</td>\n",
       "      <td>커피너무조금주시네요  얼음만가득해요.  드라이브스루로 구입했는데 코너가 돌기도 넓고...</td>\n",
       "      <td>4.1.월</td>\n",
       "      <td>1번째 방문</td>\n",
       "    </tr>\n",
       "    <tr>\n",
       "      <th>5</th>\n",
       "      <td>미놈친아</td>\n",
       "      <td>매장 깔끔하고 조용하고 아주 좋습니다 직원분께서 테이블서비스 추천해주셔서 이용하였는...</td>\n",
       "      <td>4.3.수</td>\n",
       "      <td>1번째 방문</td>\n",
       "    </tr>\n",
       "    <tr>\n",
       "      <th>6</th>\n",
       "      <td>바이올렛7132</td>\n",
       "      <td>홀에 계시는분 친절하세요.</td>\n",
       "      <td>4.28.일</td>\n",
       "      <td>1번째 방문</td>\n",
       "    </tr>\n",
       "  </tbody>\n",
       "</table>\n",
       "</div>"
      ],
      "text/plain": [
       "   nickname                                            content    date revisit\n",
       "0     하림채아윤                                                NaN  3.24.일  2번째 방문\n",
       "1     리뷰써보기  상하이는 순삭해서 사진이 없네요ㅋㅋㅋ 양상추, 토마토 신선해서 맛있게 먹었어요. 사...  3.17.일  1번째 방문\n",
       "2       껀블리  포장해서 먹었는데 기프티콘 사용할거라 맥드라이브 대신 주차장에 주차하고 픽업했어요!...  4.13.토  1번째 방문\n",
       "3      주주46  오랜만에 베이컨토마토디럭스버거를 사먹어봤는데요, 맥도날드는 빵이 쫄깃하고 맛있네요!...   4.4.목  1번째 방문\n",
       "4    현듀와나들이  커피너무조금주시네요  얼음만가득해요.  드라이브스루로 구입했는데 코너가 돌기도 넓고...   4.1.월  1번째 방문\n",
       "5      미놈친아  매장 깔끔하고 조용하고 아주 좋습니다 직원분께서 테이블서비스 추천해주셔서 이용하였는...   4.3.수  1번째 방문\n",
       "6  바이올렛7132                                    홀에 계시는분 친절하세요.   4.28.일  1번째 방문"
      ]
     },
     "execution_count": 35,
     "metadata": {},
     "output_type": "execute_result"
    }
   ],
   "source": [
    "df = pd.read_excel(f\"./{file_name}\", sheet_name=\"output\")\n",
    "df.head(7)"
   ]
  },
  {
   "cell_type": "markdown",
   "id": "1da47331-a045-4f7e-a43c-3b777746507a",
   "metadata": {
    "tags": []
   },
   "source": [
    "___\n",
    "## 3. 데이터 전처리\n",
    "\n",
    "데이터의 결측치 등을 처리하는 단계를 거칩니다.\n",
    "\n",
    "전처리 과정은 다음 단계로 정리할 수 있습니다.\n",
    "> 1. info를 확인합니다. (사용자 편의)\n",
    "2. 리뷰 내용이 없는 리뷰 (결측치)를 제거합니다.\n",
    "3. revisit 열을 정수형 데이터로 전환합니다. \n",
    "\n",
    "#### info를 사용하여 출력한 정보입니다.\n",
    "```python\n",
    "df.info()\n",
    "```\n",
    "\n",
    "```\n",
    "<class 'pandas.core.frame.DataFrame'>\n",
    "RangeIndex: 20 entries, 0 to 19\n",
    "Data columns (total 4 columns):\n",
    " S   Column    Non-Null Count  Dtype \n",
    "---  ------    --------------  ----- \n",
    " 0   nickname  20 non-null     object\n",
    " 1   content   17 non-null     object\n",
    " 2   date      20 non-null     object\n",
    " 3   revisit   20 non-null     object\n",
    "dtypes: object(4)\n",
    "memory usage: 772.0+ bytes\n",
    "```\n",
    "\n",
    "#### **df.isnull().sum()** 를 사용하면 content에 null이 있는 것을 알 수 있습니다.\n",
    "\n",
    "```\n",
    "nickname    0\n",
    "content     3\n",
    "date        0\n",
    "revisit     0\n",
    "dtype: int64\n",
    "```\n",
    "\n",
    "아래는 코드 진행 예시입니다."
   ]
  },
  {
   "cell_type": "code",
   "execution_count": 36,
   "id": "aa678f14-a970-4e33-88c6-a89bbcd6caa7",
   "metadata": {
    "tags": []
   },
   "outputs": [
    {
     "name": "stdout",
     "output_type": "stream",
     "text": [
      "<class 'pandas.core.frame.DataFrame'>\n",
      "RangeIndex: 50 entries, 0 to 49\n",
      "Data columns (total 4 columns):\n",
      " #   Column    Non-Null Count  Dtype \n",
      "---  ------    --------------  ----- \n",
      " 0   nickname  50 non-null     object\n",
      " 1   content   45 non-null     object\n",
      " 2   date      50 non-null     object\n",
      " 3   revisit   50 non-null     object\n",
      "dtypes: object(4)\n",
      "memory usage: 1.7+ KB\n"
     ]
    }
   ],
   "source": [
    "df.info()"
   ]
  },
  {
   "cell_type": "code",
   "execution_count": 37,
   "id": "97ce696f-f979-4a82-b49d-1abce9d6b176",
   "metadata": {
    "tags": []
   },
   "outputs": [
    {
     "data": {
      "text/plain": [
       "nickname    0\n",
       "content     5\n",
       "date        0\n",
       "revisit     0\n",
       "dtype: int64"
      ]
     },
     "execution_count": 37,
     "metadata": {},
     "output_type": "execute_result"
    }
   ],
   "source": [
    "df.isnull().sum()"
   ]
  },
  {
   "cell_type": "code",
   "execution_count": 18,
   "id": "db2edb3a-958a-48f2-b1ea-6c5f91bde9a2",
   "metadata": {
    "tags": []
   },
   "outputs": [],
   "source": [
    "import re"
   ]
  },
  {
   "cell_type": "code",
   "execution_count": 38,
   "id": "253e8445-d829-4d13-8c15-9cc28e26f7b0",
   "metadata": {
    "tags": []
   },
   "outputs": [
    {
     "name": "stdout",
     "output_type": "stream",
     "text": [
      "1    1\n",
      "2    1\n",
      "3    1\n",
      "4    1\n",
      "5    1\n",
      "6    1\n",
      "7    2\n",
      "Name: revisit, dtype: object\n"
     ]
    }
   ],
   "source": [
    "# 결측치 제거\n",
    "df2 = df.dropna(axis=0)\n",
    "df2.isnull().sum()\n",
    "\n",
    "# revisit 열 재구성\n",
    "df2.loc[:, 'revisit'] = df2['revisit'].apply(lambda x: x[0])\n",
    "df2.loc[:, 'revisit'] = df2['revisit'].astype(int)\n",
    "\n",
    "# 열 확인\n",
    "print(df2['revisit'].iloc[:7])"
   ]
  },
  {
   "cell_type": "markdown",
   "id": "aa48c465-ca1b-49fa-b0d4-7e00325bd2d7",
   "metadata": {
    "tags": []
   },
   "source": [
    "___\n",
    "\n",
    "## 4) 데이터 탐색 및 시각화\n",
    "\n",
    "자연어 처리가 이루어지지 않은 단계이기 때문에 현재 간단히 진행할 수 있는 분석 코드 몇 가지를 통해 데이터를 살펴보도록 하겠습니다."
   ]
  },
  {
   "cell_type": "markdown",
   "id": "1819601d-551e-431d-8520-dc096ba9ee18",
   "metadata": {
    "tags": []
   },
   "source": [
    "### describe"
   ]
  },
  {
   "cell_type": "code",
   "execution_count": 39,
   "id": "19c2948e-198f-4ae8-8e27-0bd118afaaff",
   "metadata": {
    "tags": []
   },
   "outputs": [
    {
     "data": {
      "text/html": [
       "<div>\n",
       "<style scoped>\n",
       "    .dataframe tbody tr th:only-of-type {\n",
       "        vertical-align: middle;\n",
       "    }\n",
       "\n",
       "    .dataframe tbody tr th {\n",
       "        vertical-align: top;\n",
       "    }\n",
       "\n",
       "    .dataframe thead th {\n",
       "        text-align: right;\n",
       "    }\n",
       "</style>\n",
       "<table border=\"1\" class=\"dataframe\">\n",
       "  <thead>\n",
       "    <tr style=\"text-align: right;\">\n",
       "      <th></th>\n",
       "      <th>nickname</th>\n",
       "      <th>content</th>\n",
       "      <th>date</th>\n",
       "      <th>revisit</th>\n",
       "    </tr>\n",
       "  </thead>\n",
       "  <tbody>\n",
       "    <tr>\n",
       "      <th>count</th>\n",
       "      <td>45</td>\n",
       "      <td>45</td>\n",
       "      <td>45</td>\n",
       "      <td>45</td>\n",
       "    </tr>\n",
       "    <tr>\n",
       "      <th>unique</th>\n",
       "      <td>43</td>\n",
       "      <td>45</td>\n",
       "      <td>33</td>\n",
       "      <td>4</td>\n",
       "    </tr>\n",
       "    <tr>\n",
       "      <th>top</th>\n",
       "      <td>sera1216</td>\n",
       "      <td>상하이는 순삭해서 사진이 없네요ㅋㅋㅋ 양상추, 토마토 신선해서 맛있게 먹었어요. 사...</td>\n",
       "      <td>2.10.토</td>\n",
       "      <td>1</td>\n",
       "    </tr>\n",
       "    <tr>\n",
       "      <th>freq</th>\n",
       "      <td>2</td>\n",
       "      <td>1</td>\n",
       "      <td>3</td>\n",
       "      <td>35</td>\n",
       "    </tr>\n",
       "  </tbody>\n",
       "</table>\n",
       "</div>"
      ],
      "text/plain": [
       "        nickname                                            content    date  \\\n",
       "count         45                                                 45      45   \n",
       "unique        43                                                 45      33   \n",
       "top     sera1216  상하이는 순삭해서 사진이 없네요ㅋㅋㅋ 양상추, 토마토 신선해서 맛있게 먹었어요. 사...  2.10.토   \n",
       "freq           2                                                  1       3   \n",
       "\n",
       "        revisit  \n",
       "count        45  \n",
       "unique        4  \n",
       "top           1  \n",
       "freq         35  "
      ]
     },
     "execution_count": 39,
     "metadata": {},
     "output_type": "execute_result"
    }
   ],
   "source": [
    "df2.describe()"
   ]
  },
  {
   "cell_type": "markdown",
   "id": "730fcb07-88c5-442e-8611-ecb7298417f9",
   "metadata": {
    "tags": []
   },
   "source": [
    "## 4-1) 간단한 토큰화 작업을 통한 많이 등장하는 단어 살펴보기\n",
    "\n",
    "\n",
    "\n",
    "아주 간단한 토큰화를 거쳐 가장 많이 등장하는 단어를 그래프로 시각화하는 부분입니다.\n",
    "데이터가 작고 자연어 처리 과정이 들어가지 않아 의미 있는 데이터를 도출한다기보다는, 데이터의 형태 및 내용을 대략적으로 짐작해 볼 수 있습니다.\n"
   ]
  },
  {
   "cell_type": "code",
   "execution_count": 45,
   "id": "ea454b89-4b8c-41b4-b308-7c27f9e1fb46",
   "metadata": {
    "tags": []
   },
   "outputs": [],
   "source": [
    "from collections import Counter\n",
    "import matplotlib.pyplot as plt\n",
    "import matplotlib.font_manager as fm"
   ]
  },
  {
   "cell_type": "code",
   "execution_count": 46,
   "id": "579f45a8-77cf-4609-b115-ed6ad94a04c3",
   "metadata": {
    "tags": []
   },
   "outputs": [],
   "source": [
    "# 한글 사용하기\n",
    "\n",
    "# 글꼴 경로 지정\n",
    "font_path = 'C:\\\\Windows\\\\Fonts\\\\malgun.ttf'\n",
    "\n",
    "# 폰트 이름 지정\n",
    "font_name = fm.FontProperties(fname=font_path).get_name()\n",
    "plt.rc('font', family=font_name)"
   ]
  },
  {
   "cell_type": "code",
   "execution_count": 60,
   "id": "abaf105b-b3a3-4b90-a81c-87d4786b89eb",
   "metadata": {
    "tags": []
   },
   "outputs": [],
   "source": [
    "# 'content' 열의 데이터 타입을 문자열로 변환\n",
    "df2.loc[:, 'content'] = df2['content'].astype(str)\n",
    "\n",
    "# 'content' 열에 대해 공백을 기준으로 토큰화하는 함수 정의\n",
    "def tokenize_by_space(text):\n",
    "    tokens = text.split()  # 공백을 기준으로 텍스트를 분리하여 리스트로 반환\n",
    "    return tokens\n",
    "\n",
    "# 'content' 열에 대해 토큰화 수행\n",
    "df2.loc[:,'tokenized_content'] = df2['content'].apply(tokenize_by_space)"
   ]
  },
  {
   "cell_type": "code",
   "execution_count": 71,
   "id": "df9a44cb-9ae8-4c11-9fc8-45a5e7481160",
   "metadata": {
    "tags": []
   },
   "outputs": [
    {
     "data": {
      "image/png": "[encoded data removed]",
      "text/plain": [
       "<Figure size 1000x600 with 1 Axes>"
      ]
     },
     "metadata": {},
     "output_type": "display_data"
    }
   ],
   "source": [
    "# 모든 토큰을 하나의 리스트로 펼침\n",
    "all_tokens = [token for sublist in df2['tokenized_content'] for token in sublist]\n",
    "# all_tokens = [x for x in all_tokens if len(x) > 1]\n",
    "\n",
    "# 토큰의 빈도 계산\n",
    "token_counter = Counter(all_tokens)\n",
    "\n",
    "# 가장 빈도가 높은 상위 10개 토큰 추출\n",
    "top_tokens = token_counter.most_common(10)\n",
    "\n",
    "# 그래프 그리기\n",
    "labels, values = zip(*top_tokens)\n",
    "plt.figure(figsize=(10, 6))\n",
    "plt.rc('font', family='Malgun Gothic')\n",
    "plt.bar(labels, values)\n",
    "plt.title('Top 10 Token Frequencies')\n",
    "plt.xlabel('Token')\n",
    "plt.ylabel('Frequency')\n",
    "plt.xticks(rotation=45)\n",
    "plt.show()"
   ]
  },
  {
   "cell_type": "markdown",
   "id": "fd5ae5b8-5c23-4fcb-994a-e304e847f4fb",
   "metadata": {},
   "source": [
    "## 4-2) 누적 방문 횟수 살펴보기"
   ]
  },
  {
   "cell_type": "code",
   "execution_count": 92,
   "id": "e7c13c57-5f12-4297-a421-188177e0a63d",
   "metadata": {
    "tags": []
   },
   "outputs": [
    {
     "data": {
      "image/png": "[encoded data removed]",
      "text/plain": [
       "<Figure size 1000x600 with 1 Axes>"
      ]
     },
     "metadata": {},
     "output_type": "display_data"
    }
   ],
   "source": [
    "import matplotlib.pyplot as plt\n",
    "\n",
    "plt.figure(figsize=(10, 6))\n",
    "df2['revisit'].value_counts().plot(kind='pie')\n",
    "plt.title('Distribution of Revisit')\n",
    "plt.xlabel('Revisit')\n",
    "plt.ylabel('Frequency')\n",
    "plt.show()"
   ]
  }
 ],
 "metadata": {
  "kernelspec": {
   "display_name": "croll",
   "language": "python",
   "name": "croll"
  },
  "language_info": {
   "codemirror_mode": {
    "name": "ipython",
    "version": 3
   },
   "file_extension": ".py",
   "mimetype": "text/x-python",
   "name": "python",
   "nbconvert_exporter": "python",
   "pygments_lexer": "ipython3",
   "version": "3.11.5"
  }
 },
 "nbformat": 4,
 "nbformat_minor": 5
}
